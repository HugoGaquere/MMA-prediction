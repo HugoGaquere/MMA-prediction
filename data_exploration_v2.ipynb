{
 "cells": [
  {
   "cell_type": "code",
   "execution_count": 11,
   "metadata": {},
   "outputs": [],
   "source": [
    "import pandas as pd\n",
    "from IPython.display import display"
   ]
  },
  {
   "cell_type": "code",
   "execution_count": 2,
   "metadata": {},
   "outputs": [],
   "source": [
    "ufc_stats = pd.read_csv('data/ufc_stats.csv')"
   ]
  },
  {
   "cell_type": "code",
   "execution_count": 6,
   "metadata": {},
   "outputs": [
    {
     "name": "stdout",
     "output_type": "stream",
     "text": [
      "<class 'pandas.core.frame.DataFrame'>\n",
      "RangeIndex: 34436 entries, 0 to 34435\n",
      "Data columns (total 37 columns):\n",
      " #   Column                         Non-Null Count  Dtype  \n",
      "---  ------                         --------------  -----  \n",
      " 0   Unnamed: 0                     34436 non-null  int64  \n",
      " 1   fighter                        34436 non-null  object \n",
      " 2   knockdowns                     34436 non-null  int64  \n",
      " 3   significant_strikes_landed     34436 non-null  int64  \n",
      " 4   significant_strikes_attempted  34436 non-null  int64  \n",
      " 5   significant_strikes_rate       34436 non-null  float64\n",
      " 6   total_strikes_landed           34436 non-null  int64  \n",
      " 7   total_strikes_attempted        34436 non-null  int64  \n",
      " 8   takedown_successful            34436 non-null  int64  \n",
      " 9   takedown_attempted             34436 non-null  int64  \n",
      " 10  takedown_rate                  34436 non-null  float64\n",
      " 11  submission_attempt             34436 non-null  int64  \n",
      " 12  reversals                      34436 non-null  int64  \n",
      " 13  head_landed                    34436 non-null  int64  \n",
      " 14  head_attempted                 34436 non-null  int64  \n",
      " 15  body_landed                    34436 non-null  int64  \n",
      " 16  body_attempted                 34436 non-null  int64  \n",
      " 17  leg_landed                     34436 non-null  int64  \n",
      " 18  leg_attempted                  34436 non-null  int64  \n",
      " 19  distance_landed                34436 non-null  int64  \n",
      " 20  distance_attempted             34436 non-null  int64  \n",
      " 21  clinch_landed                  34436 non-null  int64  \n",
      " 22  clinch_attempted               34436 non-null  int64  \n",
      " 23  ground_landed                  34436 non-null  int64  \n",
      " 24  ground_attempted               34436 non-null  int64  \n",
      " 25  round                          34436 non-null  object \n",
      " 26  result                         34436 non-null  object \n",
      " 27  last_round                     34436 non-null  int64  \n",
      " 28  time                           34436 non-null  object \n",
      " 29  scheduled_rounds               34436 non-null  object \n",
      " 30  winner                         34418 non-null  object \n",
      " 31  weight_class                   34436 non-null  object \n",
      " 32  event                          34436 non-null  object \n",
      " 33  fight_date                     34332 non-null  object \n",
      " 34  location                       34332 non-null  object \n",
      " 35  attendance                     24966 non-null  float64\n",
      " 36  id                             34436 non-null  int64  \n",
      "dtypes: float64(3), int64(24), object(10)\n",
      "memory usage: 9.7+ MB\n"
     ]
    }
   ],
   "source": [
    "ufc_stats.info()"
   ]
  },
  {
   "cell_type": "code",
   "execution_count": 72,
   "metadata": {},
   "outputs": [],
   "source": [
    "def get_fights(fighter_name):\n",
    "    all_fights = ufc_stats[ufc_stats['fighter'] == fighter_name]\n",
    "    return all_fights\n",
    "\n",
    "def clean_columns(data):\n",
    "    cleaned_data = data.drop(columns=['fighter', 'Unnamed: 0', 'event', 'location', 'attendance', 'time', 'scheduled_rounds', 'weight_class', 'round', 'last_round', 'id', 'result', 'winner', 'fight_date'])\n",
    "    # remove columns named \"fighter\", \"Unnamed: 0\", \"event\", \"fight_date\", \"location\", \"attendance\"\n",
    "    # Convert the \"fight_date\" column to a datetime data type\n",
    "    #cleaned_data['fight_date'] = pd.to_datetime(cleaned_data['fight_date'])\n",
    "    return cleaned_data\n",
    "\n",
    "def get_last_fights(data, nb_fights):\n",
    "    df = data.sort_values(by=['fight_date'], ascending=False)\n",
    "    # Group the DataFrame by the unique fight ID\n",
    "    grouped = df.groupby('id', sort=False)\n",
    "    # Get the first nb_fights groups (corresponding to the first nb_fights fights)\n",
    "    first_nb_fights = [group for _, group in grouped]\n",
    "    # Concatenate the DataFrames for the first nb_fights fights\n",
    "    result_df = pd.concat(first_nb_fights)\n",
    "    # Reset the index of the result DataFrame if needed\n",
    "    result_df.reset_index(drop=True, inplace=True)\n",
    "    return result_df\n",
    "\n",
    "def get_all_oponents(fighter_name):\n",
    "    all_fights = get_fights(fighter_name)\n",
    "    fights_ids = all_fights['id'].unique()\n",
    "    filtered_fights = ufc_stats[(ufc_stats['id'].isin(fights_ids)) & (ufc_stats['fighter'] != fighter_name)]['fighter'].unique()\n",
    "    return filtered_fights\n",
    "\n",
    "def get_winner(fighter_name_1, fighter_name_2):\n",
    "    all_fights = get_fights(fighter_name_1)\n",
    "    fights_ids = all_fights['id'].unique()\n",
    "    filtered_fights = ufc_stats[(ufc_stats['id'].isin(fights_ids)) & (ufc_stats['fighter'] != fighter_name_1) & (ufc_stats['fighter'] == fighter_name_2)]\n",
    "    grouped = filtered_fights.groupby('id', sort=False)\n",
    "    fights = [group.iloc[0] for _, group in grouped]\n",
    "    fights = pd.DataFrame(fights)\n",
    "    res = fights['winner'].value_counts()\n",
    "    \n",
    "    # return -1 if no fight found\n",
    "    if len(res) == 0:\n",
    "         return -1\n",
    "\n",
    "    res = res.index[0]\n",
    "    return 0 if res == 'L' else 1\n",
    "\n",
    "def get_all_fighters_name():\n",
    "    return ufc_stats['fighter'].unique()\n",
    "\n",
    "def get_fighter_data(fighter_name):\n",
    "    all_fights = get_fights(fighter_name)\n",
    "    all_fights = clean_columns(all_fights)\n",
    "    #last_fights = get_last_fights(all_fights)\n",
    "    #all_fights = all_fights.drop(columns=['round', 'last_round', 'id', 'result', 'winner', 'fight_date'])\n",
    "    all_fights = all_fights.mean().to_frame().transpose()\n",
    "    return all_fights"
   ]
  },
  {
   "cell_type": "code",
   "execution_count": null,
   "metadata": {},
   "outputs": [],
   "source": [
    "print(get_all_fighters_name()[:500])"
   ]
  },
  {
   "cell_type": "code",
   "execution_count": 45,
   "metadata": {},
   "outputs": [
    {
     "data": {
      "text/plain": [
       "array(['Dustin Poirier', 'Donald Cerrone', 'Khabib Nurmagomedov',\n",
       "       'Eddie Alvarez', 'Nate Diaz', 'Jose Aldo', 'Chad Mendes',\n",
       "       'Dennis Siver', 'Diego Brandao', 'Max Holloway', 'Marcus Brimage'],\n",
       "      dtype=object)"
      ]
     },
     "execution_count": 45,
     "metadata": {},
     "output_type": "execute_result"
    }
   ],
   "source": [
    "get_all_oponents('Conor McGregor')"
   ]
  },
  {
   "cell_type": "code",
   "execution_count": 73,
   "metadata": {},
   "outputs": [
    {
     "data": {
      "text/html": [
       "<div>\n",
       "<style scoped>\n",
       "    .dataframe tbody tr th:only-of-type {\n",
       "        vertical-align: middle;\n",
       "    }\n",
       "\n",
       "    .dataframe tbody tr th {\n",
       "        vertical-align: top;\n",
       "    }\n",
       "\n",
       "    .dataframe thead th {\n",
       "        text-align: right;\n",
       "    }\n",
       "</style>\n",
       "<table border=\"1\" class=\"dataframe\">\n",
       "  <thead>\n",
       "    <tr style=\"text-align: right;\">\n",
       "      <th></th>\n",
       "      <th>knockdowns</th>\n",
       "      <th>significant_strikes_landed</th>\n",
       "      <th>significant_strikes_attempted</th>\n",
       "      <th>significant_strikes_rate</th>\n",
       "      <th>total_strikes_landed</th>\n",
       "      <th>total_strikes_attempted</th>\n",
       "      <th>takedown_successful</th>\n",
       "      <th>takedown_attempted</th>\n",
       "      <th>takedown_rate</th>\n",
       "      <th>submission_attempt</th>\n",
       "      <th>...</th>\n",
       "      <th>body_landed</th>\n",
       "      <th>body_attempted</th>\n",
       "      <th>leg_landed</th>\n",
       "      <th>leg_attempted</th>\n",
       "      <th>distance_landed</th>\n",
       "      <th>distance_attempted</th>\n",
       "      <th>clinch_landed</th>\n",
       "      <th>clinch_attempted</th>\n",
       "      <th>ground_landed</th>\n",
       "      <th>ground_attempted</th>\n",
       "    </tr>\n",
       "  </thead>\n",
       "  <tbody>\n",
       "    <tr>\n",
       "      <th>0</th>\n",
       "      <td>0.464286</td>\n",
       "      <td>21.392857</td>\n",
       "      <td>43.000000</td>\n",
       "      <td>0.530714</td>\n",
       "      <td>28.464286</td>\n",
       "      <td>50.464286</td>\n",
       "      <td>0.178571</td>\n",
       "      <td>0.321429</td>\n",
       "      <td>0.107143</td>\n",
       "      <td>0.035714</td>\n",
       "      <td>...</td>\n",
       "      <td>3.642857</td>\n",
       "      <td>5.642857</td>\n",
       "      <td>2.785714</td>\n",
       "      <td>3.535714</td>\n",
       "      <td>16.464286</td>\n",
       "      <td>36.321429</td>\n",
       "      <td>2.178571</td>\n",
       "      <td>2.642857</td>\n",
       "      <td>2.750000</td>\n",
       "      <td>4.035714</td>\n",
       "    </tr>\n",
       "    <tr>\n",
       "      <th>0</th>\n",
       "      <td>0.188406</td>\n",
       "      <td>23.913043</td>\n",
       "      <td>47.101449</td>\n",
       "      <td>0.506667</td>\n",
       "      <td>28.695652</td>\n",
       "      <td>52.420290</td>\n",
       "      <td>0.405797</td>\n",
       "      <td>1.101449</td>\n",
       "      <td>0.222609</td>\n",
       "      <td>0.289855</td>\n",
       "      <td>...</td>\n",
       "      <td>2.246377</td>\n",
       "      <td>3.130435</td>\n",
       "      <td>2.550725</td>\n",
       "      <td>3.101449</td>\n",
       "      <td>17.956522</td>\n",
       "      <td>37.956522</td>\n",
       "      <td>3.623188</td>\n",
       "      <td>5.492754</td>\n",
       "      <td>2.333333</td>\n",
       "      <td>3.652174</td>\n",
       "    </tr>\n",
       "  </tbody>\n",
       "</table>\n",
       "<p>2 rows × 23 columns</p>\n",
       "</div>"
      ],
      "text/plain": [
       "   knockdowns  significant_strikes_landed  significant_strikes_attempted  \\\n",
       "0    0.464286                   21.392857                      43.000000   \n",
       "0    0.188406                   23.913043                      47.101449   \n",
       "\n",
       "   significant_strikes_rate  total_strikes_landed  total_strikes_attempted  \\\n",
       "0                  0.530714             28.464286                50.464286   \n",
       "0                  0.506667             28.695652                52.420290   \n",
       "\n",
       "   takedown_successful  takedown_attempted  takedown_rate  submission_attempt  \\\n",
       "0             0.178571            0.321429       0.107143            0.035714   \n",
       "0             0.405797            1.101449       0.222609            0.289855   \n",
       "\n",
       "   ...  body_landed  body_attempted  leg_landed  leg_attempted  \\\n",
       "0  ...     3.642857        5.642857    2.785714       3.535714   \n",
       "0  ...     2.246377        3.130435    2.550725       3.101449   \n",
       "\n",
       "   distance_landed  distance_attempted  clinch_landed  clinch_attempted  \\\n",
       "0        16.464286           36.321429       2.178571          2.642857   \n",
       "0        17.956522           37.956522       3.623188          5.492754   \n",
       "\n",
       "   ground_landed  ground_attempted  \n",
       "0       2.750000          4.035714  \n",
       "0       2.333333          3.652174  \n",
       "\n",
       "[2 rows x 23 columns]"
      ]
     },
     "metadata": {},
     "output_type": "display_data"
    },
    {
     "name": "stdout",
     "output_type": "stream",
     "text": [
      "Winner  1\n"
     ]
    }
   ],
   "source": [
    "fighter_data_1 = get_fighter_data('Conor McGregor')\n",
    "fighter_data_2 = get_fighter_data('Dustin Poirier')\n",
    "winner = get_winner('Conor McGregor', 'Dustin Poirier')\n",
    "df = pd.concat([fighter_data_1, fighter_data_2])\n",
    "display(df)\n",
    "print(\"Winner \", winner)"
   ]
  },
  {
   "cell_type": "markdown",
   "metadata": {},
   "source": [
    "## Prepare input for xgboost"
   ]
  },
  {
   "cell_type": "code",
   "execution_count": 75,
   "metadata": {},
   "outputs": [
    {
     "name": "stdout",
     "output_type": "stream",
     "text": [
      "['knockdowns', 'significant_strikes_landed', 'significant_strikes_attempted', 'significant_strikes_rate', 'total_strikes_landed', 'total_strikes_attempted', 'takedown_successful', 'takedown_attempted', 'takedown_rate', 'submission_attempt', 'reversals', 'head_landed', 'head_attempted', 'body_landed', 'body_attempted', 'leg_landed', 'leg_attempted', 'distance_landed', 'distance_attempted', 'clinch_landed', 'clinch_attempted', 'ground_landed', 'ground_attempted', 'knockdowns_1', 'significant_strikes_landed_1', 'significant_strikes_attempted_1', 'significant_strikes_rate_1', 'total_strikes_landed_1', 'total_strikes_attempted_1', 'takedown_successful_1', 'takedown_attempted_1', 'takedown_rate_1', 'submission_attempt_1', 'reversals_1', 'head_landed_1', 'head_attempted_1', 'body_landed_1', 'body_attempted_1', 'leg_landed_1', 'leg_attempted_1', 'distance_landed_1', 'distance_attempted_1', 'clinch_landed_1', 'clinch_attempted_1', 'ground_landed_1', 'ground_attempted_1', 'winner']\n"
     ]
    }
   ],
   "source": [
    "fighter_data_1 = get_fighter_data('Conor McGregor')\n",
    "columns = fighter_data_1.columns.to_list()\n",
    "for index, col in enumerate(fighter_data_1.columns):\n",
    "    new_col = col + '_1'\n",
    "    columns.append(new_col)\n",
    "\n",
    "columns.append('winner')\n",
    "\n",
    "print(columns)"
   ]
  },
  {
   "cell_type": "code",
   "execution_count": 77,
   "metadata": {},
   "outputs": [
    {
     "name": "stderr",
     "output_type": "stream",
     "text": [
      "  0%|          | 0/2448 [00:00<?, ?it/s]"
     ]
    },
    {
     "name": "stderr",
     "output_type": "stream",
     "text": [
      "100%|██████████| 2448/2448 [02:11<00:00, 18.59it/s]\n"
     ]
    }
   ],
   "source": [
    "from tqdm import tqdm\n",
    "\n",
    "results = []\n",
    "data = []\n",
    "\n",
    "fighters_name = get_all_fighters_name()\n",
    "for fighter in tqdm(fighters_name):\n",
    "    all_oponents = get_all_oponents(fighter)\n",
    "    fighter_data_1 = get_fighter_data(fighter)\n",
    "    for oponent in all_oponents:\n",
    "        fighter_data_2 = get_fighter_data(oponent)\n",
    "        winner = get_winner(fighter, oponent)\n",
    "        data.append(fighter_data_1.values.tolist()[0] + fighter_data_2.values.tolist()[0] + [winner])\n",
    "\n",
    "df = pd.DataFrame(data=data, columns=columns)\n"
   ]
  },
  {
   "cell_type": "code",
   "execution_count": 78,
   "metadata": {},
   "outputs": [],
   "source": [
    "df.to_csv('fighter_stats.csv', index=False)"
   ]
  }
 ],
 "metadata": {
  "kernelspec": {
   "display_name": "venv",
   "language": "python",
   "name": "python3"
  },
  "language_info": {
   "codemirror_mode": {
    "name": "ipython",
    "version": 3
   },
   "file_extension": ".py",
   "mimetype": "text/x-python",
   "name": "python",
   "nbconvert_exporter": "python",
   "pygments_lexer": "ipython3",
   "version": "3.12.0"
  }
 },
 "nbformat": 4,
 "nbformat_minor": 2
}
